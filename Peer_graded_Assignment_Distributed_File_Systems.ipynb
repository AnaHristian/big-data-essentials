{
 "cells": [
  {
   "cell_type": "markdown",
   "metadata": {},
   "source": [
    "## Peer-graded Assignment: Distributed File Systems"
   ]
  },
  {
   "cell_type": "code",
   "execution_count": 25,
   "metadata": {},
   "outputs": [
    {
     "name": "stdout",
     "output_type": "stream",
     "text": [
      "Found 2 items\n",
      "drwxr-xr-x   - root supergroup          0 2017-11-28 21:41 /data\n",
      "drwxr-xr-x   - root supergroup          0 2017-10-17 13:11 /user\n"
     ]
    }
   ],
   "source": [
    "%%bash\n",
    "hdfs dfs -ls /"
   ]
  },
  {
   "cell_type": "code",
   "execution_count": 27,
   "metadata": {},
   "outputs": [
    {
     "name": "stdout",
     "output_type": "stream",
     "text": [
      "Found 1 items\r\n",
      "drwxrwxrwx   - jovyan supergroup          0 2017-11-28 21:41 /data/wiki/en_articles_part\r\n"
     ]
    }
   ],
   "source": [
    "! hdfs dfs -ls /data/wiki"
   ]
  },
  {
   "cell_type": "code",
   "execution_count": 3,
   "metadata": {},
   "outputs": [
    {
     "name": "stdout",
     "output_type": "stream",
     "text": [
      "73.3 M  /data/wiki\r\n"
     ]
    }
   ],
   "source": [
    "! hdfs dfs -du -h /data"
   ]
  },
  {
   "cell_type": "code",
   "execution_count": 4,
   "metadata": {},
   "outputs": [
    {
     "name": "stdout",
     "output_type": "stream",
     "text": [
      "/home/jovyan\r\n"
     ]
    }
   ],
   "source": [
    "! pwd"
   ]
  },
  {
   "cell_type": "markdown",
   "metadata": {},
   "source": [
    "* Estimate minimum Namenode RAM size for HDFS with 1 PB capacity, block size 64 MB, average metadata size for each block is 300 B, replication factor is 3. Provide the formula for calculations and the result.\n",
    "\n",
    "```data_size = 1 PB\n",
    "block_size  = 64 MB\n",
    "replication_factor = 3 300B\n",
    "metadata_size = 300```"
   ]
  },
  {
   "cell_type": "code",
   "execution_count": 58,
   "metadata": {},
   "outputs": [],
   "source": [
    "def min_namenode_ram(data_size, block_size, replication_factor, metadata_size):     \n",
    "    return float(data_size) / float(block_size) / float(replication_factor) * float(metadata_size)"
   ]
  },
  {
   "cell_type": "code",
   "execution_count": 59,
   "metadata": {},
   "outputs": [
    {
     "data": {
      "text/plain": [
       "1.5625"
      ]
     },
     "execution_count": 59,
     "metadata": {},
     "output_type": "execute_result"
    }
   ],
   "source": [
    "min_namenode_ram(1, 64, 3, 300)"
   ]
  },
  {
   "cell_type": "markdown",
   "metadata": {},
   "source": [
    "* HDDs in your cluster have the following characteristics: average reading speed is 60 MB/s, seek time is 5 ms. You want to spend 0.5 % time for seeking the block, i.e. seek time should be 200 times less than the time to read the block. Estimate the minimum block size."
   ]
  },
  {
   "cell_type": "code",
   "execution_count": 63,
   "metadata": {},
   "outputs": [
    {
     "data": {
      "text/plain": [
       "60.0"
      ]
     },
     "execution_count": 63,
     "metadata": {},
     "output_type": "execute_result"
    }
   ],
   "source": [
    "reading_speed = 60\n",
    "seek_time = 0.005\n",
    "seek_percentage = 0.5\n",
    "block_time = 200*seek_time \n",
    "block_size = block_time * reading_speed\n",
    "block_size  "
   ]
  },
  {
   "cell_type": "markdown",
   "metadata": {},
   "source": [
    "60 MB"
   ]
  },
  {
   "cell_type": "markdown",
   "metadata": {},
   "source": [
    "* Create text file ‘test.txt’ in a local fs. Use HDFS CLI to make the following operations:\n",
    "\n",
    "\n",
    "1. сreate directory ‘assignment1’ in your home directory in HDFS (you can use a relative path or prescribe it explicitly \"/user/jovyan/...\")\n",
    "2. put test.txt in it\n",
    "3. output the size and the owner of the file\n",
    "4. revoke ‘read’ permission for ‘other users’\n",
    "5. read the first 10 lines of the file\n",
    "6. rename it to ‘test2.txt’."
   ]
  },
  {
   "cell_type": "code",
   "execution_count": 23,
   "metadata": {},
   "outputs": [],
   "source": [
    "! touch test.txt"
   ]
  },
  {
   "cell_type": "code",
   "execution_count": 18,
   "metadata": {},
   "outputs": [
    {
     "name": "stdout",
     "output_type": "stream",
     "text": [
      "put: `test.txt': No such file or directory\r\n"
     ]
    }
   ],
   "source": [
    "! hdfs dfs -put test.txt assignment1/"
   ]
  },
  {
   "cell_type": "code",
   "execution_count": 28,
   "metadata": {},
   "outputs": [
    {
     "name": "stdout",
     "output_type": "stream",
     "text": [
      "put: `assignment1/test.txt': File exists\r\n"
     ]
    }
   ],
   "source": [
    "! hdfs dfs -put test.txt assignment1/"
   ]
  },
  {
   "cell_type": "code",
   "execution_count": 30,
   "metadata": {},
   "outputs": [
    {
     "name": "stdout",
     "output_type": "stream",
     "text": [
      "-rw-r--r--   1 jovyan supergroup          0 2019-06-20 10:59 assignment1/test.txt\r\n"
     ]
    }
   ],
   "source": [
    "! hdfs dfs -ls assignment1/test.txt"
   ]
  },
  {
   "cell_type": "code",
   "execution_count": 32,
   "metadata": {},
   "outputs": [],
   "source": [
    "! hdfs dfs -chmod o-r assignment1/test.txt"
   ]
  },
  {
   "cell_type": "code",
   "execution_count": 34,
   "metadata": {},
   "outputs": [],
   "source": [
    "! hdfs dfs -cat assignment1/test.txt | head -10"
   ]
  },
  {
   "cell_type": "code",
   "execution_count": 35,
   "metadata": {},
   "outputs": [],
   "source": [
    "! hdfs dfs -mv assignment1/test.txt assignment1/test2.txt"
   ]
  },
  {
   "cell_type": "markdown",
   "metadata": {},
   "source": [
    "* Use HDFS CLI to investigate the file ‘/data/wiki/en_articles_part/articles-part’ in HDFS:\n",
    "\n",
    "\n",
    "1. get blocks and their locations in HDFS for this file, show the command without an output\n",
    "2. get the information about any block of the file, show the command and the block locations from the output"
   ]
  },
  {
   "cell_type": "code",
   "execution_count": 36,
   "metadata": {},
   "outputs": [
    {
     "name": "stdout",
     "output_type": "stream",
     "text": [
      "Found 1 items\r\n",
      "-rwxrwxrwx   1 jovyan supergroup   76861985 2017-11-28 21:41 /data/wiki/en_articles_part/articles-part\r\n"
     ]
    }
   ],
   "source": [
    "! hdfs dfs -ls /data/wiki/en_articles_part"
   ]
  },
  {
   "cell_type": "code",
   "execution_count": 38,
   "metadata": {},
   "outputs": [
    {
     "name": "stdout",
     "output_type": "stream",
     "text": [
      "Connecting to namenode via http://localhost:50070/fsck?ugi=jovyan&files=1&blocks=1&locations=1&path=%2Fdata%2Fwiki%2Fen_articles_part%2Farticles-part\r\n",
      "FSCK started by jovyan (auth:SIMPLE) from /127.0.0.1 for path /data/wiki/en_articles_part/articles-part at Thu Jun 20 11:23:35 UTC 2019\r\n",
      "/data/wiki/en_articles_part/articles-part 76861985 bytes, 1 block(s):  OK\r\n",
      "0. BP-912138591-172.17.0.1-1508245861251:blk_1073741825_1001 len=76861985 Live_repl=1 [DatanodeInfoWithStorage[127.0.0.1:50010,DS-abfda850-d766-4f78-a27c-3744043afccc,DISK]]\r\n",
      "\r\n",
      "Status: HEALTHY\r\n",
      " Total size:\t76861985 B\r\n",
      " Total dirs:\t0\r\n",
      " Total files:\t1\r\n",
      " Total symlinks:\t\t0\r\n",
      " Total blocks (validated):\t1 (avg. block size 76861985 B)\r\n",
      " Minimally replicated blocks:\t1 (100.0 %)\r\n",
      " Over-replicated blocks:\t0 (0.0 %)\r\n",
      " Under-replicated blocks:\t0 (0.0 %)\r\n",
      " Mis-replicated blocks:\t\t0 (0.0 %)\r\n",
      " Default replication factor:\t1\r\n",
      " Average block replication:\t1.0\r\n",
      " Corrupt blocks:\t\t0\r\n",
      " Missing replicas:\t\t0 (0.0 %)\r\n",
      " Number of data-nodes:\t\t1\r\n",
      " Number of racks:\t\t1\r\n",
      "FSCK ended at Thu Jun 20 11:23:35 UTC 2019 in 5 milliseconds\r\n",
      "\r\n",
      "\r\n",
      "The filesystem under path '/data/wiki/en_articles_part/articles-part' is HEALTHY\r\n"
     ]
    }
   ],
   "source": [
    "# get blocks and their locations in HDFS for this file\n",
    "! hdfs fsck /data/wiki/en_articles_part/articles-part -files -blocks -locations"
   ]
  },
  {
   "cell_type": "code",
   "execution_count": 41,
   "metadata": {},
   "outputs": [
    {
     "name": "stdout",
     "output_type": "stream",
     "text": [
      "Connecting to namenode via http://localhost:50070/fsck?ugi=jovyan&blockId=blk_1073741825+&path=%2Fdata%2Fwiki%2Fen_articles_part%2Farticles-part\n",
      "FSCK started by jovyan (auth:SIMPLE) from /127.0.0.1 at Thu Jun 20 11:28:23 UTC 2019\n",
      "\n",
      "Block Id: blk_1073741825\n",
      "Block belongs to: /data/wiki/en_articles_part/articles-part\n",
      "No. of Expected Replica: 1\n",
      "No. of live Replica: 1\n",
      "No. of excess Replica: 0\n",
      "No. of stale Replica: 0\n",
      "No. of decommissioned Replica: 0\n",
      "No. of decommissioning Replica: 0\n",
      "No. of corrupted Replica: 0\n",
      "Block replica on datanode/rack: 68b82cfe9c5e/default-rack is HEALTHY\n"
     ]
    }
   ],
   "source": [
    "! hdfs fsck /data/wiki/en_articles_part/articles-part -blockId blk_1073741825"
   ]
  },
  {
   "cell_type": "markdown",
   "metadata": {},
   "source": [
    "* Show the total capacity of this HDFS installation, used space and total data nodes in the cluster.\n",
    "\n",
    "\n",
    "    - total capacity of this HDFS installation: 2.14 TB\n",
    "    - used space: 241.12 GB\n",
    "    - total data nodes in the cluster: 4"
   ]
  }
 ],
 "metadata": {
  "kernelspec": {
   "display_name": "Python 2",
   "language": "python",
   "name": "python2"
  },
  "language_info": {
   "codemirror_mode": {
    "name": "ipython",
    "version": 2
   },
   "file_extension": ".py",
   "mimetype": "text/x-python",
   "name": "python",
   "nbconvert_exporter": "python",
   "pygments_lexer": "ipython2",
   "version": "2.7.12"
  }
 },
 "nbformat": 4,
 "nbformat_minor": 2
}
